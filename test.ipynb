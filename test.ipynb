{
 "cells": [
  {
   "cell_type": "code",
   "execution_count": null,
   "metadata": {},
   "outputs": [],
   "source": [
    "# Cell 1\n",
    "from pyspark.sql import SparkSession\n",
    "\n",
    "# create SparkSession\n",
    "spark = SparkSession.builder.appName(\"DatabricksExample\").getOrCreate()"
   ]
  },
  {
   "cell_type": "code",
   "execution_count": null,
   "metadata": {},
   "outputs": [],
   "source": [
    "# Cell 2\n",
    "# assuming that we have a CSV file on DBFS (Databricks File System) or any other supported storage\n",
    "df = spark.read.format('csv').option('header', 'true').load('./sample_data.csv')\n",
    "\n",
    "# print the schema of the DataFrame\n",
    "df.printSchema()"
   ]
  },
  {
   "cell_type": "code",
   "execution_count": null,
   "metadata": {},
   "outputs": [],
   "source": [
    "# Cell 3\n",
    "# perform a simple operation (count the number of rows)\n",
    "count = df.count()\n",
    "\n",
    "print(f\"The data frame contains {count} rows.\")"
   ]
  },
  {
   "cell_type": "code",
   "execution_count": null,
   "metadata": {},
   "outputs": [],
   "source": [
    "# Cell 4\n",
    "# perform a SQL query\n",
    "df.createOrReplaceTempView(\"sample_data\")\n",
    "\n",
    "result = spark.sql(\"SELECT * FROM sample_data WHERE column_name = 'some_value'\")\n",
    "\n",
    "# show the result\n",
    "result.show()"
   ]
  }
 ],
 "metadata": {
  "language_info": {
   "name": "python"
  },
  "orig_nbformat": 4
 },
 "nbformat": 4,
 "nbformat_minor": 2
}
